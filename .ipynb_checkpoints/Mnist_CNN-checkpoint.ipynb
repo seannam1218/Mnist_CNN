{
 "cells": [
  {
   "cell_type": "code",
   "execution_count": 1,
   "metadata": {},
   "outputs": [],
   "source": [
    "import tensorflow as tf\n",
    "from tensorflow.keras.models import Sequential\n",
    "from tensorflow.keras.layers import Dense, Dropout, Activation, Flatten, Conv2D\n",
    "from tensorflow.keras.utils import to_categorical\n",
    "\n",
    "mnist = tf.keras.datasets.mnist #28 x 28 images of hand-written digits 0-9\n",
    "(x_train, y_train), (x_test, y_test) = mnist.load_data()\n",
    "\n",
    "# normalize values from [0,255] to [0,1]\n",
    "x_train = tf.keras.utils.normalize(x_train, axis=1)\n",
    "x_test = tf.keras.utils.normalize(x_test, axis=1)\n",
    "\n",
    "# one-hot encode (aka binarize) the y data\n",
    "y_train = to_categorical(y_train)\n",
    "y_test = to_categorical(y_test)"
   ]
  },
  {
   "cell_type": "code",
   "execution_count": 3,
   "metadata": {},
   "outputs": [
    {
     "data": {
      "image/png": "[encoded data removed]",
      "text/plain": [
       "<Figure size 432x288 with 1 Axes>"
      ]
     },
     "metadata": {
      "needs_background": "light"
     },
     "output_type": "display_data"
    },
    {
     "data": {
      "image/png": "[encoded data removed]",
      "text/plain": [
       "<Figure size 432x288 with 1 Axes>"
      ]
     },
     "metadata": {
      "needs_background": "light"
     },
     "output_type": "display_data"
    },
    {
     "data": {
      "image/png": "[encoded data removed]",
      "text/plain": [
       "<Figure size 432x288 with 1 Axes>"
      ]
     },
     "metadata": {
      "needs_background": "light"
     },
     "output_type": "display_data"
    }
   ],
   "source": [
    "import matplotlib.pyplot as plt\n",
    "\n",
    "# let's have a look at how the normalized data looks like visually\n",
    "plt.imshow(x_train[0], cmap = plt.cm.binary)\n",
    "plt.show()\n",
    "plt.imshow(x_train[1], cmap = plt.cm.binary)\n",
    "plt.show()\n",
    "plt.imshow(x_train[2], cmap = plt.cm.binary)\n",
    "plt.show()"
   ]
  },
  {
   "cell_type": "code",
   "execution_count": 4,
   "metadata": {},
   "outputs": [],
   "source": [
    "# Convolutional model expects 4-dim feature input. Reshape our 3d feature data into 4d\n",
    "x_train = x_train.reshape(x_train.shape[0], 28, 28, 1)\n",
    "x_test = x_test.reshape(x_test.shape[0], 28, 28, 1)"
   ]
  },
  {
   "cell_type": "code",
   "execution_count": 8,
   "metadata": {},
   "outputs": [
    {
     "name": "stdout",
     "output_type": "stream",
     "text": [
      "_________________________________________________________________\n",
      "Layer (type)                 Output Shape              Param #   \n",
      "=================================================================\n",
      "conv2d_3 (Conv2D)            (None, 28, 28, 12)        108       \n",
      "_________________________________________________________________\n",
      "batch_normalization_v1_4 (Ba (None, 28, 28, 12)        36        \n",
      "_________________________________________________________________\n",
      "activation_4 (Activation)    (None, 28, 28, 12)        0         \n",
      "_________________________________________________________________\n",
      "conv2d_4 (Conv2D)            (None, 14, 14, 24)        10368     \n",
      "_________________________________________________________________\n",
      "batch_normalization_v1_5 (Ba (None, 14, 14, 24)        72        \n",
      "_________________________________________________________________\n",
      "activation_5 (Activation)    (None, 14, 14, 24)        0         \n",
      "_________________________________________________________________\n",
      "conv2d_5 (Conv2D)            (None, 7, 7, 32)          27648     \n",
      "_________________________________________________________________\n",
      "batch_normalization_v1_6 (Ba (None, 7, 7, 32)          96        \n",
      "_________________________________________________________________\n",
      "activation_6 (Activation)    (None, 7, 7, 32)          0         \n",
      "_________________________________________________________________\n",
      "flatten_1 (Flatten)          (None, 1568)              0         \n",
      "_________________________________________________________________\n",
      "dense_2 (Dense)              (None, 120)               188160    \n",
      "_________________________________________________________________\n",
      "batch_normalization_v1_7 (Ba (None, 120)               360       \n",
      "_________________________________________________________________\n",
      "activation_7 (Activation)    (None, 120)               0         \n",
      "_________________________________________________________________\n",
      "dropout_1 (Dropout)          (None, 120)               0         \n",
      "_________________________________________________________________\n",
      "dense_3 (Dense)              (None, 10)                1210      \n",
      "=================================================================\n",
      "Total params: 228,058\n",
      "Trainable params: 227,682\n",
      "Non-trainable params: 376\n",
      "_________________________________________________________________\n"
     ]
    }
   ],
   "source": [
    "model = tf.keras.Sequential(\n",
    "    [\n",
    "        tf.keras.layers.Conv2D(kernel_size=3, filters=12, input_shape=(28, 28, 1), use_bias=False, padding='same'),\n",
    "        tf.keras.layers.BatchNormalization(center=True, scale=False),\n",
    "        tf.keras.layers.Activation('relu'),\n",
    "\n",
    "        tf.keras.layers.Conv2D(kernel_size=6, filters=24, use_bias=False, padding='same', strides=2),\n",
    "        tf.keras.layers.BatchNormalization(center=True, scale=False),\n",
    "        tf.keras.layers.Activation('relu'),\n",
    "\n",
    "        tf.keras.layers.Conv2D(kernel_size=6, filters=32, use_bias=False, padding='same', strides=2),\n",
    "        tf.keras.layers.BatchNormalization(center=True, scale=False),\n",
    "        tf.keras.layers.Activation('relu'),\n",
    "\n",
    "        tf.keras.layers.Flatten(),\n",
    "\n",
    "        tf.keras.layers.Dense(120, use_bias=False),\n",
    "        tf.keras.layers.BatchNormalization(center=True, scale=False),\n",
    "        tf.keras.layers.Activation('relu'),\n",
    "\n",
    "        tf.keras.layers.Dropout(0.3),\n",
    "        tf.keras.layers.Dense(10, activation='softmax')\n",
    "  ])\n",
    "\n",
    "model.compile(optimizer=tf.keras.optimizers.Adam(lr=0.008),\n",
    "              loss='categorical_crossentropy',\n",
    "              metrics=['accuracy'])\n",
    "\n",
    "model.summary()"
   ]
  },
  {
   "cell_type": "code",
   "execution_count": 9,
   "metadata": {},
   "outputs": [
    {
     "name": "stdout",
     "output_type": "stream",
     "text": [
      "Epoch 1/10\n",
      "60000/60000 [==============================] - 103s 2ms/sample - loss: 0.1360 - acc: 0.9587\n",
      "Epoch 2/10\n",
      "60000/60000 [==============================] - 94s 2ms/sample - loss: 0.0717 - acc: 0.9786\n",
      "Epoch 3/10\n",
      "60000/60000 [==============================] - 93s 2ms/sample - loss: 0.0535 - acc: 0.9836\n",
      "Epoch 4/10\n",
      "60000/60000 [==============================] - 90s 1ms/sample - loss: 0.0487 - acc: 0.9850\n",
      "Epoch 5/10\n",
      "60000/60000 [==============================] - 92s 2ms/sample - loss: 0.0408 - acc: 0.9879\n",
      "Epoch 6/10\n",
      "60000/60000 [==============================] - 91s 2ms/sample - loss: 0.0355 - acc: 0.9894\n",
      "Epoch 7/10\n",
      "60000/60000 [==============================] - 93s 2ms/sample - loss: 0.0337 - acc: 0.9895\n",
      "Epoch 8/10\n",
      "60000/60000 [==============================] - 92s 2ms/sample - loss: 0.0323 - acc: 0.9902\n",
      "Epoch 9/10\n",
      "60000/60000 [==============================] - 92s 2ms/sample - loss: 0.0258 - acc: 0.9922\n",
      "Epoch 10/10\n",
      "60000/60000 [==============================] - 89s 1ms/sample - loss: 0.0260 - acc: 0.9919\n"
     ]
    },
    {
     "data": {
      "text/plain": [
       "<tensorflow.python.keras.callbacks.History at 0x7f96467031d0>"
      ]
     },
     "execution_count": 9,
     "metadata": {},
     "output_type": "execute_result"
    }
   ],
   "source": [
    "model.fit(x_train, y_train, epochs=10)"
   ]
  },
  {
   "cell_type": "code",
   "execution_count": 10,
   "metadata": {},
   "outputs": [
    {
     "name": "stdout",
     "output_type": "stream",
     "text": [
      "10000/10000 [==============================] - 4s 407us/sample - loss: 0.0282 - acc: 0.9913\n"
     ]
    },
    {
     "data": {
      "text/plain": [
       "[0.028202435991842186, 0.9913]"
      ]
     },
     "execution_count": 10,
     "metadata": {},
     "output_type": "execute_result"
    }
   ],
   "source": [
    "model.evaluate(x_test, y_test)"
   ]
  },
  {
   "cell_type": "code",
   "execution_count": null,
   "metadata": {},
   "outputs": [],
   "source": []
  }
 ],
 "metadata": {
  "kernelspec": {
   "display_name": "Python 3",
   "language": "python",
   "name": "python3"
  },
  "language_info": {
   "codemirror_mode": {
    "name": "ipython",
    "version": 3
   },
   "file_extension": ".py",
   "mimetype": "text/x-python",
   "name": "python",
   "nbconvert_exporter": "python",
   "pygments_lexer": "ipython3",
   "version": "3.7.3"
  }
 },
 "nbformat": 4,
 "nbformat_minor": 2
}
